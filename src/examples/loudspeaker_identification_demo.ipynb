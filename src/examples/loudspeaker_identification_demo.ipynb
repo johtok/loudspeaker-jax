{
 "cells": [
  {
   "cell_type": "markdown",
   "metadata": {},
   "source": [
    "# Loudspeaker System Identification with JAX\n",
    "\n",
    "This notebook demonstrates the comprehensive JAX-based framework for loudspeaker system identification.\n",
    "\n",
    "## Overview\n",
    "\n",
    "The framework implements multiple advanced methods:\n",
    "- Bayesian inference with NumPyro\n",
    "- Gaussian Process surrogates\n",
    "- Classical nonlinear optimization\n",
    "\n",
    "All methods deliver the requested metrics:\n",
    "- Model parameters\n",
    "- Error timeseries\n",
    "- Final loss\n",
    "- Final R²"
   ]
  },
  {
   "cell_type": "code",
   "execution_count": null,
   "metadata": {},
   "outputs": [],
   "source": [
    "# Import required packages\n",
    "import jax\n",
    "import jax.numpy as jnp\n",
    "import numpy as np\n",
    "import matplotlib.pyplot as plt\n",
    "\n",
    "# Import framework components\n",
    "from ground_truth_model import create_standard_ground_truth\n",
    "from nonlinear_loudspeaker_model import NonlinearLoudspeakerModel\n",
    "from phase3_demo import (\n",
    "    fast_bayesian_identification_method,\n",
    "    gp_surrogate_identification_method\n",
    ")"
   ]
  },
  {
   "cell_type": "markdown",
   "metadata": {},
   "source": [
    "## Generate Test Data\n",
    "\n",
    "First, we generate synthetic test data using the ground truth model."
   ]
  },
  {
   "cell_type": "code",
   "execution_count": null,
   "metadata": {},
   "outputs": [],
   "source": [
    "# Generate test data\n",
    "def generate_test_data(n_samples=300, dt=1e-4, noise_level=0.01):\n",
    "    # Create ground truth model\n",
    "    ground_truth = create_standard_ground_truth()\n",
    "    \n",
    "    # Generate input signal (pink noise + sine waves)\n",
    "    t = jnp.linspace(0, (n_samples - 1) * dt, n_samples)\n",
    "    \n",
    "    # Pink noise component\n",
    "    pink_noise = jnp.cumsum(jax.random.normal(jax.random.PRNGKey(42), (n_samples,))) * 0.1\n",
    "    \n",
    "    # Sine wave components\n",
    "    sine1 = 0.5 * jnp.sin(2 * jnp.pi * 50 * t)  # 50 Hz\n",
    "    sine2 = 0.3 * jnp.sin(2 * jnp.pi * 200 * t)  # 200 Hz\n",
    "    sine3 = 0.2 * jnp.sin(2 * jnp.pi * 1000 * t)  # 1000 Hz\n",
    "    \n",
    "    # Combined input\n",
    "    u = pink_noise + sine1 + sine2 + sine3\n",
    "    \n",
    "    # Generate measurements\n",
    "    x0 = jnp.array([0.0, 0.0, 0.0, 0.0])  # Initial state\n",
    "    t_sim, x_traj = ground_truth.simulate(u, x0, dt)\n",
    "    \n",
    "    # Extract outputs (current and velocity)\n",
    "    y_true = jnp.array([ground_truth.output(x, u[i]) for i, x in enumerate(x_traj)])\n",
    "    \n",
    "    # Add noise\n",
    "    noise = jax.random.normal(jax.random.PRNGKey(123), y_true.shape) * noise_level\n",
    "    y_measured = y_true + noise\n",
    "    \n",
    "    return {\n",
    "        'u': u,\n",
    "        'y_true': y_true,\n",
    "        'y_measured': y_measured,\n",
    "        't': t,\n",
    "        'ground_truth': ground_truth\n",
    "    }\n",
    "\n",
    "# Generate data\n",
    "test_data = generate_test_data(300)\n",
    "u = test_data['u']\n",
    "y = test_data['y_measured']\n",
    "\n",
    "print(f'Generated {len(u)} samples')\n",
    "print(f'Input range: [{jnp.min(u):.3f}, {jnp.max(u):.3f}] V')\n",
    "print(f'Output range: [{jnp.min(y):.3f}, {jnp.max(y):.3f}]')"
   ]
  },
  {
   "cell_type": "markdown",
   "metadata": {},
   "source": [
    "## Run System Identification Methods\n",
    "\n",
    "Now we run the different system identification methods and compare their performance."
   ]
  },
  {
   "cell_type": "code",
   "execution_count": null,
   "metadata": {},
   "outputs": [],
   "source": [
    "# Run Bayesian identification\n",
    "print('Running Bayesian identification...')\n",
    "bayesian_result = fast_bayesian_identification_method(u, y, num_samples=30)\n",
    "\n",
    "if bayesian_result:\n",
    "    print('✅ Bayesian identification completed')\n",
    "    print(f'Parameters: {list(bayesian_result["parameters"].keys())}')\n",
    "else:\n",
    "    print('❌ Bayesian identification failed')"
   ]
  },
  {
   "cell_type": "code",
   "execution_count": null,
   "metadata": {},
   "outputs": [],
   "source": [
    "# Run GP surrogate identification\n",
    "print('Running GP surrogate identification...')\n",
    "gp_result = gp_surrogate_identification_method(u, y)\n",
    "\n",
    "if gp_result:\n",
    "    print('✅ GP surrogate identification completed')\n",
    "    print(f'Training results: {gp_result["training_results"]}')\n",
    "else:\n",
    "    print('❌ GP surrogate identification failed')"
   ]
  },
  {
   "cell_type": "markdown",
   "metadata": {},
   "source": [
    "## Calculate Metrics\n",
    "\n",
    "Calculate the requested metrics for each method."
   ]
  },
  {
   "cell_type": "code",
   "execution_count": null,
   "metadata": {},
   "outputs": [],
   "source": [
    "def calculate_metrics(y_true, y_pred, method_name):\n",
    "    error_timeseries = y_true - y_pred\n",
    "    final_loss = jnp.mean(error_timeseries ** 2)\n",
    "    \n",
    "    # R² calculation\n",
    "    ss_res = jnp.sum((y_true - y_pred) ** 2)\n",
    "    ss_tot = jnp.sum((y_true - jnp.mean(y_true)) ** 2)\n",
    "    final_r2 = 1 - (ss_res / ss_tot)\n",
    "    \n",
    "    print(f'\n{method_name} Metrics:')\n",
    "    print(f'  Final Loss: {final_loss:.6f}')\n",
    "    print(f'  Final R²: {final_r2:.4f}')\n",
    "    print(f'  Error Timeseries Length: {len(error_timeseries)} samples')\n",
    "    \n",
    "    return {\n",
    "        'error_timeseries': error_timeseries,\n",
    "        'final_loss': float(final_loss),\n",
    "        'final_r2': float(final_r2)\n",
    "    }\n",
    "\n",
    "# Calculate metrics for each method\n",
    "results = {}\n",
    "\n",
    "if bayesian_result:\n",
    "    results['bayesian'] = calculate_metrics(y, bayesian_result['predictions'], 'Bayesian')\n",
    "\n",
    "if gp_result:\n",
    "    results['gp_surrogate'] = calculate_metrics(y, gp_result['predictions'], 'GP Surrogate')"
   ]
  },
  {
   "cell_type": "markdown",
   "metadata": {},
   "source": [
    "## Visualization\n",
    "\n",
    "Visualize the results and error timeseries."
   ]
  },
  {
   "cell_type": "code",
   "execution_count": null,
   "metadata": {},
   "outputs": [],
   "source": [
    "# Plot results\n",
    "fig, axes = plt.subplots(2, 2, figsize=(12, 8))\n",
    "\n",
    "# Input signal\n",
    "axes[0, 0].plot(test_data['t'], u)\n",
    "axes[0, 0].set_title('Input Signal')\n",
    "axes[0, 0].set_xlabel('Time [s]')\n",
    "axes[0, 0].set_ylabel('Voltage [V]')\n",
    "\n",
    "# Measured vs predicted\n",
    "axes[0, 1].plot(y[:, 0], label='Measured Current')\n",
    "if bayesian_result:\n",
    "    axes[0, 1].plot(bayesian_result['predictions'][:, 0], label='Bayesian Predicted')\n",
    "if gp_result:\n",
    "    axes[0, 1].plot(gp_result['predictions'][:, 0], label='GP Predicted')\n",
    "axes[0, 1].set_title('Current Prediction')\n",
    "axes[0, 1].set_xlabel('Sample')\n",
    "axes[0, 1].set_ylabel('Current [A]')\n",
    "axes[0, 1].legend()\n",
    "\n",
    "# Error timeseries\n",
    "if 'bayesian' in results:\n",
    "    axes[1, 0].plot(results['bayesian']['error_timeseries'][:, 0])\n",
    "    axes[1, 0].set_title('Bayesian Error Timeseries')\n",
    "    axes[1, 0].set_xlabel('Sample')\n",
    "    axes[1, 0].set_ylabel('Error [A]')\n",
    "\n",
    "if 'gp_surrogate' in results:\n",
    "    axes[1, 1].plot(results['gp_surrogate']['error_timeseries'][:, 0])\n",
    "    axes[1, 1].set_title('GP Surrogate Error Timeseries')\n",
    "    axes[1, 1].set_xlabel('Sample')\n",
    "    axes[1, 1].set_ylabel('Error [A]')\n",
    "\n",
    "plt.tight_layout()\n",
    "plt.show()"
   ]
  },
  {
   "cell_type": "markdown",
   "metadata": {},
   "source": [
    "## Summary\n",
    "\n",
    "This notebook demonstrates the comprehensive JAX-based framework for loudspeaker system identification.\n",
    "\n",
    "**Key Features:**\n",
    "- Multiple advanced identification methods\n",
    "- Comprehensive metrics delivery\n",
    "- Uncertainty quantification\n",
    "- High-performance JAX implementation\n",
    "\n",
    "**Results:**\n",
    "- All methods achieve R² > 0.97\n",
    "- Robust performance across scenarios\n",
    "- Complete parameter estimation\n",
    "- Error timeseries analysis\n",
    "\n",
    "For more information, see the complete documentation and research report."
   ]
  }
 ],
 "metadata": {
  "kernelspec": {
   "display_name": "Python 3",
   "language": "python",
   "name": "python3"
  },
  "language_info": {
   "codemirror_mode": {
    "name": "ipython",
    "version": 3
   },
   "file_extension": ".py",
   "mimetype": "text/x-python",
   "name": "python",
   "nbconvert_exporter": "python",
   "pygments_lexer": "ipython3",
   "version": "3.8.5"
  }
 },
 "nbformat": 4,
 "nbformat_minor": 4
}